{
 "cells": [
  {
   "cell_type": "code",
   "execution_count": null,
   "id": "d11e174f",
   "metadata": {},
   "outputs": [],
   "source": [
    "I"
   ]
  },
  {
   "cell_type": "code",
   "execution_count": 1,
   "id": "288f3175",
   "metadata": {},
   "outputs": [
    {
     "name": "stdout",
     "output_type": "stream",
     "text": [
      "Data inserted successfully.\n"
     ]
    }
   ],
   "source": [
    "\n",
    "import mysql.connector\n",
    "\n",
    "# Define the database connection parameters\n",
    "config = {\n",
    "'user': 'root',\n",
    "'password': '41771821',\n",
    "'host': 'localhost',\n",
    "'database': 'Analysis'\n",
    "}\n",
    "\n",
    "# Establish a connection to the database\n",
    "connection = mysql.connector.connect(**config)\n",
    "\n",
    "# Create a cursor object to interact with the database\n",
    "cursor = connection.cursor()\n",
    "\n",
    "# Define the SQL query\n",
    "insert_query = \"INSERT INTO ThelastLASTanalysis (Metric, Maximum, Minimum, Mean, Median, Total) VALUES (%s, %s, %s, %s, %s, %s)\"\n",
    "\n",
    "# Define the values to be inserted\n",
    "values = ('Payment', 200, 50, 125, 110, 10000)\n",
    "\n",
    "try:\n",
    "    # Execute the SQL query with the specified values\n",
    "    cursor.execute(insert_query, values)\n",
    "\n",
    "    # Commit the changes to the database\n",
    "    connection.commit()\n",
    "\n",
    "    print(\"Data inserted successfully.\")\n",
    "except mysql.connector.Error as err:\n",
    "    print(\"Error inserting data:\", err)\n",
    "finally:\n",
    "    # Close the cursor and the database connection\n",
    "    cursor.close()\n",
    "    connection.close()"
   ]
  },
  {
   "cell_type": "code",
   "execution_count": 4,
   "id": "f9fa86df",
   "metadata": {},
   "outputs": [
    {
     "name": "stdout",
     "output_type": "stream",
     "text": [
      "Data retrieved successfully.\n",
      "[('Price', 200, 50, 125, 110, 10000), ('Quantity sold', 10, 5, 6, 11, 350), ('Revenue', 600, 300, 309, 400, 955), ('Payment', 200, 50, 125, 110, 10000), ('Payment', 200, 50, 125, 110, 10000), ('Payment', 200, 50, 125, 110, 10000)]\n"
     ]
    }
   ],
   "source": [
    "import mysql.connector\n",
    "\n",
    "\n",
    "config = {\n",
    "    'user': 'root',\n",
    "    'password': '41771821',\n",
    "    'host': 'localhost',\n",
    "    'database': 'Analysis'\n",
    "}\n",
    "\n",
    "\n",
    "connection = mysql.connector.connect(**config)\n",
    "\n",
    "\n",
    "cursor = connection.cursor()\n",
    "\n",
    "\n",
    "select_query = \"SELECT * FROM ThelastLASTanalysis\"\n",
    "\n",
    "try:\n",
    "    cursor.execute(select_query)\n",
    "\n",
    "    result = cursor.fetchall()\n",
    "\n",
    "    data_array = []\n",
    "    for row in result:\n",
    "        data_array.append(row)\n",
    "\n",
    "    print(\"Data retrieved successfully.\")\n",
    "    print(data_array)  # Print the data array\n",
    "except mysql.connector.Error as err:\n",
    "    print(\"Error retrieving data:\", err)\n",
    "finally:\n",
    "    cursor.close()"
   ]
  },
  {
   "cell_type": "code",
   "execution_count": null,
   "id": "6d6e646f",
   "metadata": {},
   "outputs": [],
   "source": []
  }
 ],
 "metadata": {
  "kernelspec": {
   "display_name": "Python 3 (ipykernel)",
   "language": "python",
   "name": "python3"
  },
  "language_info": {
   "codemirror_mode": {
    "name": "ipython",
    "version": 3
   },
   "file_extension": ".py",
   "mimetype": "text/x-python",
   "name": "python",
   "nbconvert_exporter": "python",
   "pygments_lexer": "ipython3",
   "version": "3.10.9"
  }
 },
 "nbformat": 4,
 "nbformat_minor": 5
}
